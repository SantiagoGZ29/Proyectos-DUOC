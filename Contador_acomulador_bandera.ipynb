{
  "nbformat": 4,
  "nbformat_minor": 0,
  "metadata": {
    "colab": {
      "provenance": [],
      "authorship_tag": "ABX9TyNBAN7GfbaAs8QVLv5JWQGS",
      "include_colab_link": true
    },
    "kernelspec": {
      "name": "python3",
      "display_name": "Python 3"
    },
    "language_info": {
      "name": "python"
    }
  },
  "cells": [
    {
      "cell_type": "markdown",
      "metadata": {
        "id": "view-in-github",
        "colab_type": "text"
      },
      "source": [
        "<a href=\"https://colab.research.google.com/github/SantiagoGZ29/Proyectos-DUOC/blob/main/Contador_acomulador_bandera.ipynb\" target=\"_parent\"><img src=\"https://colab.research.google.com/assets/colab-badge.svg\" alt=\"Open In Colab\"/></a>"
      ]
    },
    {
      "cell_type": "markdown",
      "source": [
        "# **Contador**\n",
        "Es una variable de tipo entera, que se utiliza para contar cuando ocurre un suceso."
      ],
      "metadata": {
        "id": "5T_YN516x9kc"
      }
    },
    {
      "cell_type": "markdown",
      "source": [
        "Números pares ingresados"
      ],
      "metadata": {
        "id": "IZhAth7Wymbm"
      }
    },
    {
      "cell_type": "code",
      "execution_count": 1,
      "metadata": {
        "colab": {
          "base_uri": "https://localhost:8080/"
        },
        "id": "XetEOQ-0x0SM",
        "outputId": "7ebaa130-ea98-4cd6-d6ac-d25529bde755"
      },
      "outputs": [
        {
          "output_type": "stream",
          "name": "stdout",
          "text": [
            "Ingrese el primer numero: 1\n",
            "Ingrese el segundo numero: 2\n",
            "Ingrese el tercer numero: 3\n",
            "La cantidad de numeros pares es:  1\n"
          ]
        }
      ],
      "source": [
        "cont = 0;\n",
        "num1 = int(input(\"Ingrese el primer numero: \"));\n",
        "if num1 % 2 == 0:\n",
        "    cont = cont + 1;\n",
        "num2 = int(input(\"Ingrese el segundo numero: \"));\n",
        "if num2 % 2 == 0:\n",
        "    cont = cont + 1;\n",
        "num3 = int(input(\"Ingrese el tercer numero: \"));\n",
        "if num3 % 2 == 0:\n",
        "    cont = cont + 1;\n",
        "\n",
        "print(\"La cantidad de números pares es: \", cont);"
      ]
    },
    {
      "cell_type": "markdown",
      "source": [
        "# **Acomulador**\n",
        "Es una variable numérica, que permite acumular valores de ciertas operaciones realizadas. Se inicializa a un valor inicial según la operación que se va a acumular:"
      ],
      "metadata": {
        "id": "7rmW2WSxzPjx"
      }
    },
    {
      "cell_type": "markdown",
      "source": [
        "Suma el valor de números pares"
      ],
      "metadata": {
        "id": "8jswv_LQzaNI"
      }
    },
    {
      "cell_type": "code",
      "source": [
        "suma = 0;\n",
        "num1 = int(input(\"Ingrese el primer numero: \"));\n",
        "if num1 % 2 == 0:\n",
        "    suma = suma + num1;\n",
        "num2 = int(input(\"Ingrese el segundo numero: \"));\n",
        "if num2 % 2 == 0:\n",
        "   suma = suma + num2;\n",
        "num3 = int(input(\"Ingrese el tercer numero: \"));\n",
        "if num3 % 2 == 0:\n",
        "    suma = suma + num3;\n",
        "\n",
        "print(\"La suma de los números pares es: \", suma);"
      ],
      "metadata": {
        "colab": {
          "base_uri": "https://localhost:8080/"
        },
        "id": "WYo7G-LHzVH7",
        "outputId": "e38cc82d-7cc7-41c1-d23f-c97449555be9"
      },
      "execution_count": 3,
      "outputs": [
        {
          "output_type": "stream",
          "name": "stdout",
          "text": [
            "Ingrese el primer numero: 2\n",
            "Ingrese el segundo numero: 4\n",
            "Ingrese el tercer numero: 5\n",
            "La suma de los números pares es:  6\n"
          ]
        }
      ]
    },
    {
      "cell_type": "markdown",
      "source": [
        "# **Banderas**\n",
        "Una bandera es una variable lógica, que se utiliza para indicar algún suceso.\n"
      ],
      "metadata": {
        "id": "AOMKSWF10WHH"
      }
    },
    {
      "cell_type": "markdown",
      "source": [
        "El objetivo del algoritmo es indicar si los números ingresados son pares."
      ],
      "metadata": {
        "id": "A4lAply60dXn"
      }
    },
    {
      "cell_type": "code",
      "source": [
        "flag = False\n",
        "num = int(input(\"Ingrese un número: \"));\n",
        "if num % 2 == 0:\n",
        "    flag = True;\n",
        "if flag:\n",
        "    print(\"El número es par\");\n",
        "else:\n",
        "    print(\"El número no es par\");"
      ],
      "metadata": {
        "colab": {
          "base_uri": "https://localhost:8080/"
        },
        "id": "rrKVnBqO0aOO",
        "outputId": "af721f5b-941c-408a-c75e-1fb649c99ec9"
      },
      "execution_count": 4,
      "outputs": [
        {
          "output_type": "stream",
          "name": "stdout",
          "text": [
            "Ingrese un número: 100\n",
            "El número es par\n"
          ]
        }
      ]
    },
    {
      "cell_type": "code",
      "source": [
        "suma = 0\n",
        "cont = 0\n",
        "print(\"Ingrese dos números: \")\n",
        "num1 = int(input(\"Ingrese el número uno \"))\n",
        "if (num1 > 0 and num1 % 2 == 0):\n",
        "    suma = suma + num1\n",
        "else:\n",
        "    cont = cont + 1\n",
        "num2 = int(input(\"Ingrese el número dos \"))\n",
        "if (num2 > 0 and num2 % 2 == 0):\n",
        "    suma = suma + num2\n",
        "else:\n",
        "    cont = cont + 1\n",
        "print(\"La suma de los números pares es: \", suma)\n",
        "print(\"La cantidad de números impares es: \", cont)\n"
      ],
      "metadata": {
        "colab": {
          "base_uri": "https://localhost:8080/"
        },
        "id": "zZ-XMOzd41O5",
        "outputId": "858744d6-c78f-4d8e-c7d7-426f91b64e0f"
      },
      "execution_count": 6,
      "outputs": [
        {
          "output_type": "stream",
          "name": "stdout",
          "text": [
            "Ingrese dos números: \n",
            "Ingrese el número uno 2\n",
            "Ingrese el número dos 5\n",
            "La suma de los números pares es:  2\n",
            "La cantidad de números impares es:  1\n"
          ]
        }
      ]
    }
  ]
}