{
  "nbformat": 4,
  "nbformat_minor": 0,
  "metadata": {
    "colab": {
      "provenance": [],
      "authorship_tag": "ABX9TyOhRtln5S9pQLF1ZYnjxdzg",
      "include_colab_link": true
    },
    "kernelspec": {
      "name": "python3",
      "display_name": "Python 3"
    },
    "language_info": {
      "name": "python"
    }
  },
  "cells": [
    {
      "cell_type": "markdown",
      "metadata": {
        "id": "view-in-github",
        "colab_type": "text"
      },
      "source": [
        "<a href=\"https://colab.research.google.com/github/SantiagoGZ29/Proyectos-DUOC/blob/main/Ejercicios_practica.ipynb\" target=\"_parent\"><img src=\"https://colab.research.google.com/assets/colab-badge.svg\" alt=\"Open In Colab\"/></a>"
      ]
    },
    {
      "cell_type": "markdown",
      "source": [
        "# **Calculadora de IMC**"
      ],
      "metadata": {
        "id": "fai2HNt6e7bE"
      }
    },
    {
      "cell_type": "code",
      "execution_count": 12,
      "metadata": {
        "colab": {
          "base_uri": "https://localhost:8080/"
        },
        "id": "L5H27w7je3fF",
        "outputId": "525f5c4c-f39c-4309-f4aa-1e8b9a97f542"
      },
      "outputs": [
        {
          "output_type": "stream",
          "name": "stdout",
          "text": [
            "Para saber tú IMC ingresa los siguientes datos\n",
            "Ingresa tú nombre  Santiago\n",
            "Ingresa tú peso en kilogramos  69\n",
            "Ingresa tú altura en metros  1.65\n",
            "Santiago  tú IMC es 25.344352617079892\n",
            "Tienes sobrepeso\n"
          ]
        }
      ],
      "source": [
        "print(\"Para saber tú IMC ingresa los siguientes datos\")\n",
        "nombre = input(\"Ingresa tú nombre  \")\n",
        "peso = int(input(\"Ingresa tú peso en kilogramos  \"))\n",
        "altura = float(input(\"Ingresa tú altura en metros  \"))\n",
        "imc = float(peso)/float(altura)**2\n",
        "print(nombre,\" tú IMC es\", imc)\n",
        "\n",
        "if imc <= 18.5:\n",
        "  print(\"Estas bajo de peso\")\n",
        "elif imc >= 18.5 and imc <= 24.99:\n",
        "  print(\"Estas en un peso normal\")\n",
        "elif imc >= 25 and imc <= 29.9:\n",
        "  print(\"Tienes sobrepeso\")\n",
        "elif imc >= 30:\n",
        "  print(\"Tienes obesidad\")"
      ]
    },
    {
      "cell_type": "markdown",
      "source": [
        "# Modificar cadenas de texto"
      ],
      "metadata": {
        "id": "cPtnowxPjyjk"
      }
    },
    {
      "cell_type": "code",
      "source": [
        "nombre = \"curso del campus virtual del DUOC\"\n",
        "nombre1 = nombre.title()\n",
        "nombre2 = nombre.upper()\n",
        "nombre3 = nombre.lower()\n",
        "print(nombre1)\n",
        "print(nombre2)\n",
        "print(nombre3)\n"
      ],
      "metadata": {
        "colab": {
          "base_uri": "https://localhost:8080/"
        },
        "id": "6tYii9LVkMT5",
        "outputId": "8143d01b-51e9-407a-92db-b4837629a19f"
      },
      "execution_count": 14,
      "outputs": [
        {
          "output_type": "stream",
          "name": "stdout",
          "text": [
            "Curso Del Campus Virtual Del Duoc\n",
            "CURSO DEL CAMPUS VIRTUAL DEL DUOC\n",
            "curso del campus virtual del duoc\n"
          ]
        }
      ]
    },
    {
      "cell_type": "markdown",
      "source": [
        "Más condicionales"
      ],
      "metadata": {
        "id": "mkOIaZ3cllnS"
      }
    },
    {
      "cell_type": "code",
      "source": [
        "clave = \"duoc\"\n",
        "contrasena = input(\"Ingresa tu contraseña  \")\n",
        "if contrasena == clave:\n",
        "  print(\"Contraseña válida\")\n",
        "else:\n",
        "  print(\"Contraseña incorrecta\")"
      ],
      "metadata": {
        "colab": {
          "base_uri": "https://localhost:8080/"
        },
        "id": "-ZcgdrQNlmFw",
        "outputId": "5e7b9249-b031-4362-ce59-c7bb9f637815"
      },
      "execution_count": 16,
      "outputs": [
        {
          "output_type": "stream",
          "name": "stdout",
          "text": [
            "Ingresa tu contraseña  hola\n",
            "Contraseña incorrecta\n"
          ]
        }
      ]
    }
  ]
}