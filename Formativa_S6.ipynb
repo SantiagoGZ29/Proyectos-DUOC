{
  "nbformat": 4,
  "nbformat_minor": 0,
  "metadata": {
    "colab": {
      "provenance": [],
      "authorship_tag": "ABX9TyPii/3gtfVAH4sEv/bLIQ7u",
      "include_colab_link": true
    },
    "kernelspec": {
      "name": "python3",
      "display_name": "Python 3"
    },
    "language_info": {
      "name": "python"
    }
  },
  "cells": [
    {
      "cell_type": "markdown",
      "metadata": {
        "id": "view-in-github",
        "colab_type": "text"
      },
      "source": [
        "<a href=\"https://colab.research.google.com/github/SantiagoGZ29/Proyectos-DUOC/blob/main/Formativa_S6.ipynb\" target=\"_parent\"><img src=\"https://colab.research.google.com/assets/colab-badge.svg\" alt=\"Open In Colab\"/></a>"
      ]
    },
    {
      "cell_type": "markdown",
      "source": [
        "**Ejercicio 1**:\n",
        "\n",
        "Instrucciones específicas:\n",
        "1.\tCrea un arreglo unidimensional con nombre arregloA y de tamaño 100, con elementos aleatorios de números enteros del 0 al 500.\n",
        "2.\tMuestra por pantalla solo los valores que se encuentren en los índices pares del arreglo.\n",
        "3.\tMuestra el elemento mayor del arreglo.\n",
        "4.\tMuestra el índice (posición) del elemento mayor.\n",
        "5.\tMuestra el elemento menor del arreglo.\n",
        "6.\tGenera la copia de arreglo A y multiplicar por 3 cada elemento. Mostrar resultado.\n",
        "7.\tMuestra la suma de los elementos del segundo arreglo.\n",
        "8.\tCalcula el promedio de los elementos del segundo arreglo."
      ],
      "metadata": {
        "id": "p9ucr8uMp5vj"
      }
    },
    {
      "cell_type": "code",
      "execution_count": null,
      "metadata": {
        "colab": {
          "base_uri": "https://localhost:8080/"
        },
        "id": "X-EbPHP-p1JE",
        "outputId": "29f8d7da-609a-4d4d-a755-a337f97626f5"
      },
      "outputs": [
        {
          "output_type": "stream",
          "name": "stdout",
          "text": [
            "El arreglo inicial es: \n",
            " [ 17 329  42 346  60 216 355 425 365 413 103  99 350 328 370 156 423 442\n",
            " 152 150 412 397 398 108 237 318 352 152 195 227  98 176 302 350 399 413\n",
            " 146 446 152 279  44 302 483 152 132  92 116 166 375 160 235 323 303 352\n",
            "  82 366 311 221 422 286 480 182  36 276 260 427 386 488  51 275 136 157\n",
            "  60 355  85 181  88 436 189 209  77 117 430 191 429 192 408 415 187 438\n",
            " 482 465 166 498 259 285 396 142  77 465]\n",
            "Los números pares son: \n",
            " [ 42 346  60 216 350 328 370 156 442 152 150 412 398 108 318 352 152  98\n",
            " 176 302 350 146 446 152  44 302 152 132  92 116 166 160 352  82 366 422\n",
            " 286 480 182  36 276 260 386 488 136  60  88 436 430 192 408 438 482 166\n",
            " 498 396 142]\n",
            "El número mayor es: \n",
            " 498\n",
            "La posición del número mayor es: \n",
            " (array([93]),)\n",
            "El número menor es: \n",
            " 17\n",
            "El arreglo multiplicado por 3 es: \n",
            " [  51  987  126 1038  180  648 1065 1275 1095 1239  309  297 1050  984\n",
            " 1110  468 1269 1326  456  450 1236 1191 1194  324  711  954 1056  456\n",
            "  585  681  294  528  906 1050 1197 1239  438 1338  456  837  132  906\n",
            " 1449  456  396  276  348  498 1125  480  705  969  909 1056  246 1098\n",
            "  933  663 1266  858 1440  546  108  828  780 1281 1158 1464  153  825\n",
            "  408  471  180 1065  255  543  264 1308  567  627  231  351 1290  573\n",
            " 1287  576 1224 1245  561 1314 1446 1395  498 1494  777  855 1188  426\n",
            "  231 1395]\n",
            "La suma de los elementos del segundo arreglo es: \n",
            " 79491\n",
            "El promedio de los elementos del arreglo es: \n",
            " 794.91\n"
          ]
        }
      ],
      "source": [
        "import random as rd\n",
        "import numpy as np\n",
        "\n",
        "#1\n",
        "arregloA = np.random.randint(0, 501, size=100)\n",
        "print(\"El arreglo inicial es: \\n\",arregloA)\n",
        "\n",
        "#2\n",
        "pares = arregloA % 2 == 0\n",
        "numpares = arregloA[pares]\n",
        "print(\"Los números pares son: \\n\",numpares)\n",
        "\n",
        "#3\n",
        "mayor = np.max(arregloA)\n",
        "print(\"El número mayor es: \\n\",mayor)\n",
        "\n",
        "#4\n",
        "posmayor = np.where(arregloA == mayor)\n",
        "print(\"La posición del número mayor es: \\n\",posmayor)\n",
        "\n",
        "#5\n",
        "menor = np.min(arregloA)\n",
        "print(\"El número menor es: \\n\",menor)\n",
        "\n",
        "#6\n",
        "aregloB = arregloA.copy()\n",
        "aregloB = aregloB * 3\n",
        "print(\"El arreglo multiplicado por 3 es: \\n\",aregloB)\n",
        "\n",
        "#7\n",
        "suma = np.sum(aregloB)\n",
        "print(\"La suma de los elementos del segundo arreglo es: \\n\",suma)\n",
        "\n",
        "\n",
        "#8\n",
        "promedio = np.mean(aregloB)\n",
        "print(\"El promedio de los elementos del arreglo es: \\n\",promedio)\n",
        "\n"
      ]
    },
    {
      "cell_type": "markdown",
      "source": [
        "**Ejercicio 2:**\n",
        "\n",
        "Instrucciones específicas:\n",
        "1.\tCrea un arreglo unidimensional con nombre arreglo_1 y de tamaño 10, con elementos aleatorios de números enteros del 0 al 1000.\n",
        "2.\tMuestra por pantalla todos los elementos del arreglo.\n",
        "3.\tCuenta los elementos pares.\n",
        "4.\tSuma los elementos impares.\n",
        "5.\tEmite mensaje de cada elemento que sea primo.\n"
      ],
      "metadata": {
        "id": "EeCS_6UvtuSh"
      }
    },
    {
      "cell_type": "code",
      "source": [
        "import numpy as np\n",
        "import random as rd\n",
        "\n",
        "#Funcion para encontrar números primos\n",
        "def es_primo(num):\n",
        "    if num <= 1: return False\n",
        "    if num <= 3: return True\n",
        "    if num % 2 == 0 or num % 3 == 0: return False\n",
        "    i = 5\n",
        "    while i * i <= num:\n",
        "        if num % i == 0 or num % (i + 2) == 0: return False\n",
        "        i += 6\n",
        "    return True\n",
        "def encontrar_primos(arr):\n",
        "    return arr[np.vectorize(es_primo)(arr)]\n",
        "\n",
        "#1 y 2\n",
        "arreglo_1 = np.random.randint(0, 1001, size=10)\n",
        "print(\"El arreglo inicial es: \\n\",arreglo_1)\n",
        "\n",
        "#3\n",
        "pares = arreglo_1 % 2 == 0\n",
        "numpares = arreglo_1[pares]\n",
        "numpares = len(numpares)\n",
        "print(\"La cantidad de números pares es: \\n\",numpares)\n",
        "\n",
        "#4\n",
        "impares = arreglo_1 % 2 != 0\n",
        "numimpares = arreglo_1[impares]\n",
        "suma = np.sum(numimpares)\n",
        "print(\"La suma de los números impares es: \\n\",suma)\n",
        "\n",
        "#5\n",
        "\n",
        "primos = encontrar_primos(arreglo_1)\n",
        "print(\"Los números primos son: \\n\",primos)"
      ],
      "metadata": {
        "colab": {
          "base_uri": "https://localhost:8080/"
        },
        "id": "m1DrlMevtw1Z",
        "outputId": "7e1d413a-7c70-4c75-d1d2-5ff42be403d3"
      },
      "execution_count": null,
      "outputs": [
        {
          "output_type": "stream",
          "name": "stdout",
          "text": [
            "El arreglo inicial es: \n",
            " [269 833 979 830 213  99 386 314 998 928]\n",
            "La cantidad de números pares es: \n",
            " 5\n",
            "La suma de los números impares es: \n",
            " 2393\n",
            "Los números primos son: \n",
            " [269]\n"
          ]
        }
      ]
    },
    {
      "cell_type": "markdown",
      "source": [
        "**Ejercicio 3:**  \n",
        "\n",
        "Instrucciones específicas:\n",
        "1.\tCrear dos arreglos unidimensionales con nombre A y B y de tamaño 10, con elementos aleatorios de números enteros del 0 al 300.\n",
        "2.\tMuestra por pantalla la suma de los elementos de cada arreglo.\n",
        "3.\tMuestra por pantalla la suma de los elementos de ambos arreglos.\n",
        "4.\tMuestra por pantalla la tabla de multiplicar de los elementos impares del arreglo B.\n",
        "\n"
      ],
      "metadata": {
        "id": "78HZpSt9xVhD"
      }
    },
    {
      "cell_type": "code",
      "source": [
        "import numpy as np\n",
        "import random as rd\n",
        "\n",
        "aregloA = np.random.randint(0, 301, size=10)\n",
        "aregloB = np.random.randint(0, 301, size=10)\n",
        "\n",
        "print(\"El arreglo A es: \\n\",aregloA)\n",
        "print(\"El arreglo B es: \\n\",aregloB)\n",
        "\n",
        "sumaA = np.sum(aregloA)\n",
        "sumaB = np.sum(aregloB)\n",
        "\n",
        "print(\"La suma de los elementos del arreglo A es: \\n\",sumaA)\n",
        "print(\"La suma de los elementos del arreglo B es: \\n\",sumaB)\n",
        "\n",
        "sumaAB = sumaA + sumaB\n",
        "print(\"La suma de los elementos de ambos arreglos es: \\n\",sumaAB)\n",
        "\n",
        "impares = aregloB % 2 != 0\n",
        "numimpares = aregloB[impares]\n",
        "print(\"Los números impares del arreglo B son: \\n\",numimpares)\n",
        "\n",
        "for num in numimpares:\n",
        "    for i in range(1, 11):\n",
        "        print(num, \"x\", i, \"=\", num * i)"
      ],
      "metadata": {
        "colab": {
          "base_uri": "https://localhost:8080/"
        },
        "id": "lYBiB13LxYVt",
        "outputId": "05c95d59-b9dd-41d2-8600-ec1eb2c23bb1"
      },
      "execution_count": 3,
      "outputs": [
        {
          "output_type": "stream",
          "name": "stdout",
          "text": [
            "El arreglo A es: \n",
            " [257  27  88 188  14  45  69 117 237 131]\n",
            "El arreglo B es: \n",
            " [178 249 239 202  71  72 183 283 253 153]\n",
            "La suma de los elementos del arreglo A es: \n",
            " 1173\n",
            "La suma de los elementos del arreglo B es: \n",
            " 1883\n",
            "La suma de los elementos de ambos arreglos es: \n",
            " 3056\n",
            "Los números impares del arreglo B son: \n",
            " [249 239  71 183 283 253 153]\n",
            "249 x 1 = 249\n",
            "249 x 2 = 498\n",
            "249 x 3 = 747\n",
            "249 x 4 = 996\n",
            "249 x 5 = 1245\n",
            "249 x 6 = 1494\n",
            "249 x 7 = 1743\n",
            "249 x 8 = 1992\n",
            "249 x 9 = 2241\n",
            "249 x 10 = 2490\n",
            "239 x 1 = 239\n",
            "239 x 2 = 478\n",
            "239 x 3 = 717\n",
            "239 x 4 = 956\n",
            "239 x 5 = 1195\n",
            "239 x 6 = 1434\n",
            "239 x 7 = 1673\n",
            "239 x 8 = 1912\n",
            "239 x 9 = 2151\n",
            "239 x 10 = 2390\n",
            "71 x 1 = 71\n",
            "71 x 2 = 142\n",
            "71 x 3 = 213\n",
            "71 x 4 = 284\n",
            "71 x 5 = 355\n",
            "71 x 6 = 426\n",
            "71 x 7 = 497\n",
            "71 x 8 = 568\n",
            "71 x 9 = 639\n",
            "71 x 10 = 710\n",
            "183 x 1 = 183\n",
            "183 x 2 = 366\n",
            "183 x 3 = 549\n",
            "183 x 4 = 732\n",
            "183 x 5 = 915\n",
            "183 x 6 = 1098\n",
            "183 x 7 = 1281\n",
            "183 x 8 = 1464\n",
            "183 x 9 = 1647\n",
            "183 x 10 = 1830\n",
            "283 x 1 = 283\n",
            "283 x 2 = 566\n",
            "283 x 3 = 849\n",
            "283 x 4 = 1132\n",
            "283 x 5 = 1415\n",
            "283 x 6 = 1698\n",
            "283 x 7 = 1981\n",
            "283 x 8 = 2264\n",
            "283 x 9 = 2547\n",
            "283 x 10 = 2830\n",
            "253 x 1 = 253\n",
            "253 x 2 = 506\n",
            "253 x 3 = 759\n",
            "253 x 4 = 1012\n",
            "253 x 5 = 1265\n",
            "253 x 6 = 1518\n",
            "253 x 7 = 1771\n",
            "253 x 8 = 2024\n",
            "253 x 9 = 2277\n",
            "253 x 10 = 2530\n",
            "153 x 1 = 153\n",
            "153 x 2 = 306\n",
            "153 x 3 = 459\n",
            "153 x 4 = 612\n",
            "153 x 5 = 765\n",
            "153 x 6 = 918\n",
            "153 x 7 = 1071\n",
            "153 x 8 = 1224\n",
            "153 x 9 = 1377\n",
            "153 x 10 = 1530\n"
          ]
        }
      ]
    }
  ]
}