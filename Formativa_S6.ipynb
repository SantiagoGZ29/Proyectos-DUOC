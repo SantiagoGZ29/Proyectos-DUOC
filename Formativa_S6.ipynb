{
  "nbformat": 4,
  "nbformat_minor": 0,
  "metadata": {
    "colab": {
      "provenance": [],
      "authorship_tag": "ABX9TyPii/3gtfVAH4sEv/bLIQ7u",
      "include_colab_link": true
    },
    "kernelspec": {
      "name": "python3",
      "display_name": "Python 3"
    },
    "language_info": {
      "name": "python"
    }
  },
  "cells": [
    {
      "cell_type": "markdown",
      "metadata": {
        "id": "view-in-github",
        "colab_type": "text"
      },
      "source": [
        "<a href=\"https://colab.research.google.com/github/SantiagoGZ29/Proyectos-DUOC/blob/main/Formativa_S6.ipynb\" target=\"_parent\"><img src=\"https://colab.research.google.com/assets/colab-badge.svg\" alt=\"Open In Colab\"/></a>"
      ]
    },
    {
      "cell_type": "markdown",
      "source": [
        "**Ejercicio 1**:\n",
        "\n",
        "Instrucciones específicas:\n",
        "1.\tCrea un arreglo unidimensional con nombre arregloA y de tamaño 100, con elementos aleatorios de números enteros del 0 al 500.\n",
        "2.\tMuestra por pantalla solo los valores que se encuentren en los índices pares del arreglo.\n",
        "3.\tMuestra el elemento mayor del arreglo.\n",
        "4.\tMuestra el índice (posición) del elemento mayor.\n",
        "5.\tMuestra el elemento menor del arreglo.\n",
        "6.\tGenera la copia de arreglo A y multiplicar por 3 cada elemento. Mostrar resultado.\n",
        "7.\tMuestra la suma de los elementos del segundo arreglo.\n",
        "8.\tCalcula el promedio de los elementos del segundo arreglo."
      ],
      "metadata": {
        "id": "p9ucr8uMp5vj"
      }
    },
    {
      "cell_type": "code",
      "execution_count": 16,
      "metadata": {
        "colab": {
          "base_uri": "https://localhost:8080/"
        },
        "id": "X-EbPHP-p1JE",
        "outputId": "29f8d7da-609a-4d4d-a755-a337f97626f5"
      },
      "outputs": [
        {
          "output_type": "stream",
          "name": "stdout",
          "text": [
            "El arreglo inicial es: \n",
            " [ 17 329  42 346  60 216 355 425 365 413 103  99 350 328 370 156 423 442\n",
            " 152 150 412 397 398 108 237 318 352 152 195 227  98 176 302 350 399 413\n",
            " 146 446 152 279  44 302 483 152 132  92 116 166 375 160 235 323 303 352\n",
            "  82 366 311 221 422 286 480 182  36 276 260 427 386 488  51 275 136 157\n",
            "  60 355  85 181  88 436 189 209  77 117 430 191 429 192 408 415 187 438\n",
            " 482 465 166 498 259 285 396 142  77 465]\n",
            "Los números pares son: \n",
            " [ 42 346  60 216 350 328 370 156 442 152 150 412 398 108 318 352 152  98\n",
            " 176 302 350 146 446 152  44 302 152 132  92 116 166 160 352  82 366 422\n",
            " 286 480 182  36 276 260 386 488 136  60  88 436 430 192 408 438 482 166\n",
            " 498 396 142]\n",
            "El número mayor es: \n",
            " 498\n",
            "La posición del número mayor es: \n",
            " (array([93]),)\n",
            "El número menor es: \n",
            " 17\n",
            "El arreglo multiplicado por 3 es: \n",
            " [  51  987  126 1038  180  648 1065 1275 1095 1239  309  297 1050  984\n",
            " 1110  468 1269 1326  456  450 1236 1191 1194  324  711  954 1056  456\n",
            "  585  681  294  528  906 1050 1197 1239  438 1338  456  837  132  906\n",
            " 1449  456  396  276  348  498 1125  480  705  969  909 1056  246 1098\n",
            "  933  663 1266  858 1440  546  108  828  780 1281 1158 1464  153  825\n",
            "  408  471  180 1065  255  543  264 1308  567  627  231  351 1290  573\n",
            " 1287  576 1224 1245  561 1314 1446 1395  498 1494  777  855 1188  426\n",
            "  231 1395]\n",
            "La suma de los elementos del segundo arreglo es: \n",
            " 79491\n",
            "El promedio de los elementos del arreglo es: \n",
            " 794.91\n"
          ]
        }
      ],
      "source": [
        "import random as rd\n",
        "import numpy as np\n",
        "\n",
        "#1\n",
        "arregloA = np.random.randint(0, 501, size=100)\n",
        "print(\"El arreglo inicial es: \\n\",arregloA)\n",
        "\n",
        "#2\n",
        "pares = arregloA % 2 == 0\n",
        "numpares = arregloA[pares]\n",
        "print(\"Los números pares son: \\n\",numpares)\n",
        "\n",
        "#3\n",
        "mayor = np.max(arregloA)\n",
        "print(\"El número mayor es: \\n\",mayor)\n",
        "\n",
        "#4\n",
        "posmayor = np.where(arregloA == mayor)\n",
        "print(\"La posición del número mayor es: \\n\",posmayor)\n",
        "\n",
        "#5\n",
        "menor = np.min(arregloA)\n",
        "print(\"El número menor es: \\n\",menor)\n",
        "\n",
        "#6\n",
        "aregloB = arregloA.copy()\n",
        "aregloB = aregloB * 3\n",
        "print(\"El arreglo multiplicado por 3 es: \\n\",aregloB)\n",
        "\n",
        "#7\n",
        "suma = np.sum(aregloB)\n",
        "print(\"La suma de los elementos del segundo arreglo es: \\n\",suma)\n",
        "\n",
        "\n",
        "#8\n",
        "promedio = np.mean(aregloB)\n",
        "print(\"El promedio de los elementos del arreglo es: \\n\",promedio)\n",
        "\n"
      ]
    },
    {
      "cell_type": "markdown",
      "source": [
        "**Ejercicio 2:**\n",
        "\n",
        "Instrucciones específicas:\n",
        "1.\tCrea un arreglo unidimensional con nombre arreglo_1 y de tamaño 10, con elementos aleatorios de números enteros del 0 al 1000.\n",
        "2.\tMuestra por pantalla todos los elementos del arreglo.\n",
        "3.\tCuenta los elementos pares.\n",
        "4.\tSuma los elementos impares.\n",
        "5.\tEmite mensaje de cada elemento que sea primo.\n"
      ],
      "metadata": {
        "id": "EeCS_6UvtuSh"
      }
    },
    {
      "cell_type": "code",
      "source": [
        "import numpy as np\n",
        "import random as rd\n",
        "\n",
        "#Funcion para encontrar números primos\n",
        "def es_primo(num):\n",
        "    if num <= 1: return False\n",
        "    if num <= 3: return True\n",
        "    if num % 2 == 0 or num % 3 == 0: return False\n",
        "    i = 5\n",
        "    while i * i <= num:\n",
        "        if num % i == 0 or num % (i + 2) == 0: return False\n",
        "        i += 6\n",
        "    return True\n",
        "def encontrar_primos(arr):\n",
        "    return arr[np.vectorize(es_primo)(arr)]\n",
        "\n",
        "#1 y 2\n",
        "arreglo_1 = np.random.randint(0, 1001, size=10)\n",
        "print(\"El arreglo inicial es: \\n\",arreglo_1)\n",
        "\n",
        "#3\n",
        "pares = arreglo_1 % 2 == 0\n",
        "numpares = arreglo_1[pares]\n",
        "numpares = len(numpares)\n",
        "print(\"La cantidad de números pares es: \\n\",numpares)\n",
        "\n",
        "#4\n",
        "impares = arreglo_1 % 2 != 0\n",
        "numimpares = arreglo_1[impares]\n",
        "suma = np.sum(numimpares)\n",
        "print(\"La suma de los números impares es: \\n\",suma)\n",
        "\n",
        "#5\n",
        "\n",
        "primos = encontrar_primos(arreglo_1)\n",
        "print(\"Los números primos son: \\n\",primos)"
      ],
      "metadata": {
        "colab": {
          "base_uri": "https://localhost:8080/"
        },
        "id": "m1DrlMevtw1Z",
        "outputId": "7e1d413a-7c70-4c75-d1d2-5ff42be403d3"
      },
      "execution_count": 24,
      "outputs": [
        {
          "output_type": "stream",
          "name": "stdout",
          "text": [
            "El arreglo inicial es: \n",
            " [269 833 979 830 213  99 386 314 998 928]\n",
            "La cantidad de números pares es: \n",
            " 5\n",
            "La suma de los números impares es: \n",
            " 2393\n",
            "Los números primos son: \n",
            " [269]\n"
          ]
        }
      ]
    },
    {
      "cell_type": "markdown",
      "source": [
        "**Ejercicio 3:**  \n",
        "\n",
        "Instrucciones específicas:\n",
        "1.\tCrear dos arreglos unidimensionales con nombre A y B y de tamaño 10, con elementos aleatorios de números enteros del 0 al 300.\n",
        "2.\tMuestra por pantalla la suma de los elementos de cada arreglo.\n",
        "3.\tMuestra por pantalla la suma de los elementos de ambos arreglos.\n",
        "4.\tMuestra por pantalla la tabla de multiplicar de los elementos impares del arreglo B.\n",
        "\n"
      ],
      "metadata": {
        "id": "78HZpSt9xVhD"
      }
    },
    {
      "cell_type": "code",
      "source": [
        "import numpy as np\n",
        "import random as rd\n",
        "\n",
        "aregloA = np.random.randint(0, 301, size=10)\n",
        "aregloB = np.random.randint(0, 301, size=10)\n",
        "\n",
        "print(\"El arreglo A es: \\n\",aregloA)\n",
        "print(\"El arreglo B es: \\n\",aregloB)\n",
        "\n",
        "sumaA = np.sum(aregloA)\n",
        "sumaB = np.sum(aregloB)\n",
        "\n",
        "print(\"La suma de los elementos del arreglo A es: \\n\",sumaA)\n",
        "print(\"La suma de los elementos del arreglo B es: \\n\",sumaB)\n",
        "\n",
        "sumaAB = sumaA + sumaB\n",
        "print(\"La suma de los elementos de ambos arreglos es: \\n\",sumaAB)\n",
        "\n",
        "impares = aregloB % 2 != 0\n",
        "numimpares = aregloB[impares]\n",
        "print(\"Los números impares del arreglo B son: \\n\",numimpares)\n",
        "\n",
        "for num in numimpares:\n",
        "    for i in range(1, 11):\n",
        "        print(num, \"x\", i, \"=\", num * i)"
      ],
      "metadata": {
        "colab": {
          "base_uri": "https://localhost:8080/"
        },
        "id": "lYBiB13LxYVt",
        "outputId": "3489fe07-3614-43e0-b33c-64042ed0453a"
      },
      "execution_count": 29,
      "outputs": [
        {
          "output_type": "stream",
          "name": "stdout",
          "text": [
            "El arreglo A es: \n",
            " [239  27 289 101 204 277 140 152 180 141]\n",
            "El arreglo B es: \n",
            " [231 117 192 286 220 208 107 161 200 275]\n",
            "La suma de los elementos del arreglo A es: \n",
            " 1750\n",
            "La suma de los elementos del arreglo B es: \n",
            " 1997\n",
            "La suma de los elementos de ambos arreglos es: \n",
            " 3747\n",
            "Los números impares del arreglo B son: \n",
            " [231 117 107 161 275]\n",
            "231 x 1 = 231\n",
            "231 x 2 = 462\n",
            "231 x 3 = 693\n",
            "231 x 4 = 924\n",
            "231 x 5 = 1155\n",
            "231 x 6 = 1386\n",
            "231 x 7 = 1617\n",
            "231 x 8 = 1848\n",
            "231 x 9 = 2079\n",
            "231 x 10 = 2310\n",
            "117 x 1 = 117\n",
            "117 x 2 = 234\n",
            "117 x 3 = 351\n",
            "117 x 4 = 468\n",
            "117 x 5 = 585\n",
            "117 x 6 = 702\n",
            "117 x 7 = 819\n",
            "117 x 8 = 936\n",
            "117 x 9 = 1053\n",
            "117 x 10 = 1170\n",
            "107 x 1 = 107\n",
            "107 x 2 = 214\n",
            "107 x 3 = 321\n",
            "107 x 4 = 428\n",
            "107 x 5 = 535\n",
            "107 x 6 = 642\n",
            "107 x 7 = 749\n",
            "107 x 8 = 856\n",
            "107 x 9 = 963\n",
            "107 x 10 = 1070\n",
            "161 x 1 = 161\n",
            "161 x 2 = 322\n",
            "161 x 3 = 483\n",
            "161 x 4 = 644\n",
            "161 x 5 = 805\n",
            "161 x 6 = 966\n",
            "161 x 7 = 1127\n",
            "161 x 8 = 1288\n",
            "161 x 9 = 1449\n",
            "161 x 10 = 1610\n",
            "275 x 1 = 275\n",
            "275 x 2 = 550\n",
            "275 x 3 = 825\n",
            "275 x 4 = 1100\n",
            "275 x 5 = 1375\n",
            "275 x 6 = 1650\n",
            "275 x 7 = 1925\n",
            "275 x 8 = 2200\n",
            "275 x 9 = 2475\n",
            "275 x 10 = 2750\n"
          ]
        }
      ]
    }
  ]
}