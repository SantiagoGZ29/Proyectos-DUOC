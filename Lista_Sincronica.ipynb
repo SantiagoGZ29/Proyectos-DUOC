{
  "nbformat": 4,
  "nbformat_minor": 0,
  "metadata": {
    "colab": {
      "provenance": [],
      "authorship_tag": "ABX9TyMmG+scPkBnNJPIF2lyS2Se",
      "include_colab_link": true
    },
    "kernelspec": {
      "name": "python3",
      "display_name": "Python 3"
    },
    "language_info": {
      "name": "python"
    }
  },
  "cells": [
    {
      "cell_type": "markdown",
      "metadata": {
        "id": "view-in-github",
        "colab_type": "text"
      },
      "source": [
        "<a href=\"https://colab.research.google.com/github/SantiagoGZ29/Proyectos-DUOC/blob/main/Lista_Sincronica.ipynb\" target=\"_parent\"><img src=\"https://colab.research.google.com/assets/colab-badge.svg\" alt=\"Open In Colab\"/></a>"
      ]
    },
    {
      "cell_type": "code",
      "execution_count": 6,
      "metadata": {
        "colab": {
          "base_uri": "https://localhost:8080/"
        },
        "id": "SYza23B8OyFR",
        "outputId": "ae12bd07-dd4c-42df-a807-df0532acb3a1"
      },
      "outputs": [
        {
          "output_type": "stream",
          "name": "stdout",
          "text": [
            "[1, 'Hola', 2, 3, 4]\n",
            "['uno', 'Dos', 'Tres', 'Cuatro']\n",
            "['uno', 1, 'Dos', 2, [10, 15]]\n",
            "2\n"
          ]
        }
      ],
      "source": [
        "lista1 = [1,2,3,4,]\n",
        "lista1.insert(1,\"Hola\") #Almacenar por hubicacion\n",
        "print(lista1)\n",
        "\n",
        "lista2 = [\"uno\",\"Dos\",\"Tres\"]\n",
        "lista2.append(\"Cuatro\") #Almacenar al final\n",
        "print(lista2)\n",
        "\n",
        "lista3 = [\"uno\",1,\"Dos\",2,[10,15]]\n",
        "print(lista3)\n",
        "\n",
        "elemento=lista1[2]\n",
        "print(elemento)"
      ]
    },
    {
      "cell_type": "code",
      "source": [
        "#Recorrer\n",
        "lista1 =  [\"uno\",\"Dos\",\"Tres\"]\n",
        "for i in lista1:\n",
        "    print(i)\n",
        "\n",
        "lista2 = [1,2,3,4]\n",
        "for i in range(len(lista2)):\n",
        "  lista2[i]+=2 #Suma dos a cada posición\n",
        "print(lista2)\n"
      ],
      "metadata": {
        "colab": {
          "base_uri": "https://localhost:8080/"
        },
        "id": "YJe2OpwdQ4IM",
        "outputId": "7fc035a3-4331-4ed4-8a0c-add13e0c4237"
      },
      "execution_count": 11,
      "outputs": [
        {
          "output_type": "stream",
          "name": "stdout",
          "text": [
            "uno\n",
            "Dos\n",
            "Tres\n",
            "[3, 4, 5, 6]\n"
          ]
        }
      ]
    },
    {
      "cell_type": "code",
      "source": [
        "import random as rd #Libreria as es diminutivo (rd )\n",
        "\n",
        "Totem = rd.randint(1,3000) #Inicial\n",
        "print(\"Totem de la tarjeta BIP\")\n",
        "\n",
        "\n",
        "\n",
        "print(\"Bienvenido, elige una opción\")\n",
        "\n",
        "stop = 0\n",
        "\n",
        "while stop == 0:\n",
        "\n",
        "  print(\"1. Ver saldo\")\n",
        "  print(\"2. Cargar dinero\")\n",
        "  print(\"3. Viajes realizados\")\n",
        "  print(\"4. Salir\")\n",
        "  opcion = int(input(\"Elige una opción: \"))\n",
        "\n",
        "  if opcion == 1:\n",
        "    print(\"Ver saldo\")\n",
        "    print(\"Su saldo es: $\",Totem)\n",
        "\n",
        "  elif opcion == 2:\n",
        "    stop2 = 0\n",
        "    while stop2 == 0:\n",
        "      print(\"Cargar dinero\")\n",
        "      print(\"¿Cúanto desea cargar?\")\n",
        "      print(\"1. $1.000\")\n",
        "      print(\"2 . $2.000\")\n",
        "      print(\"3. $5.000\")\n",
        "      print(\"4. salir\")\n",
        "\n",
        "      saldo = int(input(\"Elige una opción: \"))\n",
        "      if saldo == 1:\n",
        "        Totem += 1000\n",
        "        print(\"Su saldo es: $\",Totem)\n",
        "\n",
        "      elif saldo == 2:\n",
        "        Totem += 2000\n",
        "        print(\"Su saldo es: $\",Totem)\n",
        "\n",
        "      elif saldo == 3:\n",
        "        Totem += 5000\n",
        "        print(\"Su saldo es: $\",Totem)\n",
        "\n",
        "      elif saldo == 4:\n",
        "        stop2 = 1\n",
        "\n",
        "  elif opcion == 3:\n",
        "    print(\"Viajes realizados\")\n",
        "  elif opcion == 4:\n",
        "    print(\"Salir\")\n",
        "    stop = 1\n",
        "  else:\n",
        "    print(\"Opción no válida\")\n",
        "print(\"Su saldo final es de: $\", Totem)"
      ],
      "metadata": {
        "colab": {
          "base_uri": "https://localhost:8080/"
        },
        "id": "9CZ1eaM7Xp4X",
        "outputId": "70035342-00ac-4b0b-bea6-bf4a7e0e14b0"
      },
      "execution_count": 29,
      "outputs": [
        {
          "output_type": "stream",
          "name": "stdout",
          "text": [
            "Totem de la tarjeta BIP\n",
            "Bienvenido, elige una opción\n",
            "1. Ver saldo\n",
            "2. Cargar dinero\n",
            "3. Viajes realizados\n",
            "4. Salir\n",
            "Elige una opción: 1\n",
            "Ver saldo\n",
            "Su saldo es: $ 1499\n",
            "1. Ver saldo\n",
            "2. Cargar dinero\n",
            "3. Viajes realizados\n",
            "4. Salir\n",
            "Elige una opción: 2\n",
            "Cargar dinero\n",
            "¿Cúanto desea cargar?\n",
            "1. $1.000\n",
            "2 . $2.000\n",
            "3. $5.000\n",
            "4. salir\n",
            "Elige una opción: 1\n",
            "Su saldo es: $ 2499\n",
            "Cargar dinero\n",
            "¿Cúanto desea cargar?\n",
            "1. $1.000\n",
            "2 . $2.000\n",
            "3. $5.000\n",
            "4. salir\n",
            "Elige una opción: 2\n",
            "Su saldo es: $ 4499\n",
            "Cargar dinero\n",
            "¿Cúanto desea cargar?\n",
            "1. $1.000\n",
            "2 . $2.000\n",
            "3. $5.000\n",
            "4. salir\n",
            "Elige una opción: 4\n",
            "1. Ver saldo\n",
            "2. Cargar dinero\n",
            "3. Viajes realizados\n",
            "4. Salir\n",
            "Elige una opción: 4\n",
            "Salir\n",
            "Su saldo final es de:  4499\n"
          ]
        }
      ]
    }
  ]
}